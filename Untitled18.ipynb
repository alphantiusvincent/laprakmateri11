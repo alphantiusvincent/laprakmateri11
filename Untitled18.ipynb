{
  "nbformat": 4,
  "nbformat_minor": 0,
  "metadata": {
    "colab": {
      "provenance": []
    },
    "kernelspec": {
      "name": "python3",
      "display_name": "Python 3"
    },
    "language_info": {
      "name": "python"
    }
  },
  "cells": [
    {
      "cell_type": "code",
      "execution_count": null,
      "metadata": {
        "id": "Kpq9q1e370cf"
      },
      "outputs": [],
      "source": []
    },
    {
      "cell_type": "code",
      "source": [],
      "metadata": {
        "id": "0f44JDMaDas8"
      },
      "execution_count": null,
      "outputs": []
    },
    {
      "cell_type": "code",
      "source": [
        "t = ('m','a','t','a','h','a','r','i')\n",
        "\n",
        "t1 = ('a',)\n",
        "print(type(t1))\n"
      ],
      "metadata": {
        "id": "_xuNcw68Daxx"
      },
      "execution_count": null,
      "outputs": []
    },
    {
      "cell_type": "code",
      "source": [
        "t = ('m','a','t','a','h','a','r','i')\n",
        "t2 = ('a')\n",
        "print(type(t2))\n"
      ],
      "metadata": {
        "id": "czK5IMzRDa2v"
      },
      "execution_count": null,
      "outputs": []
    },
    {
      "cell_type": "code",
      "source": [
        "t = ('m','a','t','a','h','a','r','i')\n",
        "t = tuple()\n",
        "print(t)\n"
      ],
      "metadata": {
        "id": "nkbap_PCDa8I"
      },
      "execution_count": null,
      "outputs": []
    },
    {
      "cell_type": "code",
      "source": [
        "t = tuple('dutawacana')\n",
        "print(t)"
      ],
      "metadata": {
        "id": "_JW3Xjm2DbAe"
      },
      "execution_count": null,
      "outputs": []
    },
    {
      "cell_type": "code",
      "source": [
        "t = ('m','a','t','a','h','a','r','i')\n",
        "print(t[0])"
      ],
      "metadata": {
        "id": "WToByJfCDbE3"
      },
      "execution_count": null,
      "outputs": []
    },
    {
      "cell_type": "code",
      "source": [
        "t = ('m','a','t','a','h','a','r','i')\n",
        "print(t[1:3])"
      ],
      "metadata": {
        "id": "gcGQg0jEDbJg"
      },
      "execution_count": null,
      "outputs": []
    },
    {
      "cell_type": "code",
      "source": [
        "t = ('m','a','t','a','h','a','r','i')\n",
        "t = ('B',) + t[1:]\n",
        "print(t)"
      ],
      "metadata": {
        "id": "HERN1h7RINk9"
      },
      "execution_count": null,
      "outputs": []
    },
    {
      "cell_type": "code",
      "source": [
        "kalimat = 'namun ketik pertama kali kulihat wajah nya dibawah sinar matahari '\n",
        "dafkata = kalimat.split()\n",
        "t = list()\n",
        "for kata in dafkata:\n",
        "    t.append((len(kata), kata))\n",
        "\n",
        "t.sort(reverse=True)\n",
        "\n",
        "urutan = list()\n",
        "for length, kata in t:\n",
        "    urutan.append(kata)\n",
        "\n",
        "print(urutan)\n",
        "\n",
        "\n",
        "\n",
        "\n"
      ],
      "metadata": {
        "id": "hLmbg2SxIWVV"
      },
      "execution_count": null,
      "outputs": []
    },
    {
      "cell_type": "code",
      "source": [
        "m = [ 'matahari', 'bersinar' ]\n",
        "x = m[0]\n",
        "y = m[1]\n",
        "print(x, y)\n"
      ],
      "metadata": {
        "id": "lG-FLwH4IWZR"
      },
      "execution_count": null,
      "outputs": []
    },
    {
      "cell_type": "code",
      "source": [
        "m = [ 'pak dida', 'manis' ]\n",
        "(x, y) = m\n",
        "print(x,y)\n",
        "\n"
      ],
      "metadata": {
        "id": "z7sI1lGiIWe8"
      },
      "execution_count": null,
      "outputs": []
    },
    {
      "cell_type": "code",
      "source": [
        "\n",
        "email = 'matahari@ti.ukdw.ac.id'\n",
        "username, domain = email.split('@')\n",
        "print(username)\n",
        "print(email)"
      ],
      "metadata": {
        "id": "GH0HbdkyINpd"
      },
      "execution_count": null,
      "outputs": []
    },
    {
      "cell_type": "code",
      "source": [
        "\n",
        "d = {'a':10, 'b':1, 'c':22}\n",
        "t = list(d.items())\n",
        "print(t)\n"
      ],
      "metadata": {
        "id": "r50BZf9qY5Sc"
      },
      "execution_count": null,
      "outputs": []
    },
    {
      "cell_type": "code",
      "source": [
        "\n",
        "d = {'a':10, 'b':1, 'c':22}\n",
        "t = list(d.items())\n",
        "print(t)"
      ],
      "metadata": {
        "id": "0ab49FRFY5XS"
      },
      "execution_count": null,
      "outputs": []
    },
    {
      "cell_type": "code",
      "source": [
        "d = {'a':10, 'b':1, 'c':22}\n",
        "t = list(d.items())\n",
        "[('b', 1), ('a', 10), ('c', 22)]\n",
        "t.sort()\n",
        "print(t)\n"
      ],
      "metadata": {
        "id": "S_JaH9UCY5b1"
      },
      "execution_count": null,
      "outputs": []
    },
    {
      "cell_type": "code",
      "source": [
        "d = {'a':10, 'b':1, 'c':22}\n",
        "l = list()\n",
        "for key, val in d.items() :\n",
        "    l.append( (val, key) )\n",
        "print(l)\n"
      ],
      "metadata": {
        "id": "iXKQsFqiY5gJ"
      },
      "execution_count": null,
      "outputs": []
    },
    {
      "cell_type": "code",
      "source": [
        "import string\n",
        "fhand = open('romeo-full.txt')\n",
        "counts = dict()\n",
        "for line in fhand:\n",
        "    line = line.translate(str.maketrans('', '', string.punctuation))\n",
        "    line = line.lower()\n",
        "    words = line.split()\n",
        "    for word in words:\n",
        "        if word not in counts:\n",
        "            counts[word] = 1\n",
        "        else:\n",
        "            counts[word] += 1\n",
        "\n",
        " # urutkan dictionary by value\n",
        "lst = list()\n",
        "for key, val in list(counts.items()):\n",
        "    lst.append((val, key))\n",
        "lst.sort(reverse=True)\n",
        "for key, val in lst[:10]:\n",
        "    print(key, val)"
      ],
      "metadata": {
        "id": "UKWsC3s3jY_F"
      },
      "execution_count": null,
      "outputs": []
    },
    {
      "cell_type": "code",
      "source": [
        "last = 'pak dida'\n",
        "first = 'matahari'\n",
        "number = 'no HP088112266'\n",
        "directory = dict()\n",
        "directory[last, first] = number\n",
        "for last, first in directory:\n",
        "    print(first, last, directory[last,first])"
      ],
      "metadata": {
        "id": "ggkb2EhHjZC6"
      },
      "execution_count": null,
      "outputs": []
    },
    {
      "cell_type": "code",
      "source": [],
      "metadata": {
        "id": "6UVVBn3xjZHb"
      },
      "execution_count": null,
      "outputs": []
    }
  ]
}